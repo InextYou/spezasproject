{
 "cells": [
  {
   "cell_type": "markdown",
   "metadata": {},
   "source": [
    "## Preprocessing"
   ]
  },
  {
   "cell_type": "code",
   "execution_count": 1,
   "metadata": {},
   "outputs": [],
   "source": [
    "# TODO: comment\n",
    "import pandas as pd\n",
    "import numpy as np\n",
    "#\n",
    "import warnings\n",
    "warnings.filterwarnings(\"ignore\")\n",
    "#"
   ]
  },
  {
   "cell_type": "code",
   "execution_count": 2,
   "metadata": {},
   "outputs": [],
   "source": [
    "# TODO: comment\n",
    "path_to_file = \"../data/Component_Faults_Data.csv\"\n",
    "df = pd.read_csv(path_to_file)"
   ]
  },
  {
   "cell_type": "code",
   "execution_count": 3,
   "metadata": {},
   "outputs": [],
   "source": [
    "# TODO: comment\n",
    "x = df.iloc[:, :48].values\n",
    "y = df[\"class\"].values.reshape(-1, 1)"
   ]
  },
  {
   "cell_type": "code",
   "execution_count": 4,
   "metadata": {},
   "outputs": [],
   "source": [
    "# TODO: comment\n",
    "from sklearn.preprocessing import StandardScaler\n",
    "\n",
    "sc = StandardScaler()\n",
    "x = sc.fit_transform(x)"
   ]
  },
  {
   "cell_type": "code",
   "execution_count": 5,
   "metadata": {},
   "outputs": [],
   "source": [
    "# TODO: comment\n",
    "from sklearn.preprocessing import OneHotEncoder\n",
    "\n",
    "ohe = OneHotEncoder()\n",
    "y = ohe.fit_transform(y).toarray()"
   ]
  },
  {
   "cell_type": "code",
   "execution_count": 6,
   "metadata": {},
   "outputs": [],
   "source": [
    "# TODO: comment\n",
    "from sklearn.model_selection import train_test_split\n",
    "\n",
    "x_train, x_test, y_train, y_test = train_test_split(x, y, test_size=0.1)"
   ]
  },
  {
   "cell_type": "markdown",
   "metadata": {},
   "source": [
    "## Data Exploration"
   ]
  },
  {
   "cell_type": "code",
   "execution_count": 7,
   "metadata": {},
   "outputs": [],
   "source": [
    "# TODO: stats"
   ]
  },
  {
   "cell_type": "code",
   "execution_count": 8,
   "metadata": {},
   "outputs": [],
   "source": [
    "# TODO: plot"
   ]
  },
  {
   "cell_type": "markdown",
   "metadata": {},
   "source": [
    "## Newer Solution for testing NN-Configuration"
   ]
  },
  {
   "cell_type": "code",
   "execution_count": 12,
   "metadata": {},
   "outputs": [],
   "source": [
    "# TODO: comment\n",
    "# Imports for class\n",
    "import sys\n",
    "from keras.models import Sequential\n",
    "from keras.layers import Dense\n",
    "import matplotlib.pyplot as plt\n",
    "\n",
    "\"\"\" \n",
    "    The following class helps in streamlining the building, training, and testing of a Neural Network (NN)\n",
    "    With it, we can see the effect on the result for changing a single parameter \n",
    "    So we only have to provide the name of the parameter we have to change, and the values we want to test it with\n",
    "\"\"\"\n",
    "class NeuralNetworkParameterTester:\n",
    "\n",
    "    # The config holds all the changeable parameters for building, training and testing the NN\n",
    "    config = {\n",
    "        'input_layer_dim': 48,\n",
    "        'output_layer_dim': 11,\n",
    "        'number_of_hidden_layers': 1,\n",
    "        'number_of_units_per_layer': 10,\n",
    "        'epochs': 100,\n",
    "        'batch_size': 64,\n",
    "        'activation_function': 'relu',\n",
    "        'loss_function': 'categorical_crossentropy',\n",
    "        'optimizer': 'sgd'}\n",
    "\n",
    "    \n",
    "    div_param_name = None  # Name of the div parameter\n",
    "    div_param_val = None  # Values of the div parameter\n",
    "    \n",
    "    result = []  # Result of the test\n",
    "    \n",
    "    # The following shows how a result may look like:\n",
    "    #\n",
    "    # [\n",
    "    #    [\n",
    "    #        'test_param_val': 1,\n",
    "    #        'params': [\n",
    "    #            'input_layer_dim': 48,\n",
    "    #            'output_layer_dim': 11,\n",
    "    #            'activation_function': 'relu',\n",
    "    #            'loss_function': 'mean_squared_error',\n",
    "    #            'optimizer': 'sgd',\n",
    "    #            'number_of_hidden_layers': 1,\n",
    "    #            'number_of_units_per_layer': 10]\n",
    "    #        'result': [\n",
    "    #            'model': model,\n",
    "    #            'acurracy': 0.923\n",
    "    #        ]\n",
    "    #    ],\n",
    "    #    [\n",
    "    #        'test_param_val': 2,\n",
    "    #        'params': [\n",
    "    #            'input_layer_dim': 48,\n",
    "    #            'output_layer_dim': 11,\n",
    "    #            'activation_function': 'relu',\n",
    "    #            'loss_function': 'mean_squared_error',\n",
    "    #            'optimizer': 'sgd',\n",
    "    #            'number_of_hidden_layers': 2,\n",
    "    #            'number_of_units_per_layer': 10]\n",
    "    #        'result': [\n",
    "    #            'model': model,\n",
    "    #            'acurracy': 0.923\n",
    "    #        ]\n",
    "    #    ],\n",
    "    #   [...........]\n",
    "    # ]\n",
    "    \n",
    "    \"\"\"\n",
    "        This class requires two paramters:\n",
    "        \"test_param_name\": is the name of the parameter on which we want to see what changing it's value does to the result\n",
    "        \"test_param_val\":  is a list of integer or string values\n",
    "    \"\"\"\n",
    "    def __init__(self, test_param_name, test_param_val):\n",
    "        \n",
    "        if test_param_name is not None and isinstance(test_param_name, str):\n",
    "            self.test_param_name = test_param_name\n",
    "            if test_param_val is not None and isinstance(test_param_val, list):\n",
    "                self.test_param_val = test_param_val\n",
    "                self.config[self.test_param_name] = self.test_param_val\n",
    "            else:\n",
    "                print(\"'test_param_val' must be of type list\")\n",
    "                sys.exit(0)\n",
    "        else:\n",
    "            print(\"'test_param_name' must be of type str\")\n",
    "            sys.exit(0)\n",
    "        \n",
    "    def run(self):\n",
    "        \n",
    "        for val in self.config[self.test_param_name]:\n",
    "            # prepare config for individual test\n",
    "            test_config = self.config  \n",
    "            test_config[self.test_param_name] = val\n",
    "        \n",
    "            model = self.__build(test_config)\n",
    "            trained_model, history = self.__train(test_config, model)\n",
    "            accuracy = self.__test(trained_model)\n",
    "            \n",
    "            # save result\n",
    "            self.result.append({\"test_param_val\": val, \n",
    "                                'params': test_config.copy(), \n",
    "                                \"result\": {'model': trained_model, \n",
    "                                           'accuracy': accuracy}})\n",
    "\n",
    "    def __build(self, test_config):\n",
    "\n",
    "        # Sequential model (Basic NN)\n",
    "        model = Sequential()        \n",
    "        # Building of input layer\n",
    "        model.add(Dense(test_config['number_of_units_per_layer'], \n",
    "                        input_dim=test_config['input_layer_dim'], \n",
    "                        activation=test_config['activation_function']))\n",
    "        # Building of hidden layer(s)\n",
    "        for i in range(test_config['number_of_hidden_layers']):\n",
    "            model.add(Dense(test_config['number_of_units_per_layer'], \n",
    "                            activation=test_config['activation_function']))\n",
    "        # Building of output layer\n",
    "        model.add(Dense(test_config['output_layer_dim'], \n",
    "                        activation=\"softmax\"))\n",
    "        # ?\n",
    "        model.compile(loss=test_config['loss_function'], \n",
    "                      optimizer=test_config['optimizer'], \n",
    "                      metrics=['accuracy'])\n",
    "        return model\n",
    "\n",
    "    def __train(self, test_config, model):\n",
    "        # xtrain and ytrain is the data from preprocessing\n",
    "        history = model.fit(x_train, \n",
    "                            y_train, \n",
    "                            epochs=test_config['epochs'], \n",
    "                            batch_size=test_config['batch_size'])             \n",
    "        return model, history\n",
    "    \n",
    "    \n",
    "    # TODO: look at this method more closely. So far just copy paste\n",
    "    @staticmethod\n",
    "    def __test(model):\n",
    "        y_pred = model.predict(x_test)\n",
    "        # Converting predictions to label\n",
    "        pred = list()\n",
    "        for i in range(len(y_pred)):\n",
    "            pred.append(np.argmax(y_pred[i]))\n",
    "        # Converting one hot encoded test label to label\n",
    "        test = list()\n",
    "        for i in range(len(y_test)):\n",
    "            test.append(np.argmax(y_test[i]))\n",
    "\n",
    "        from sklearn.metrics import accuracy_score\n",
    "        accuracy = accuracy_score(pred, test)\n",
    "        return accuracy\n",
    "                                    \n",
    "                                    \n",
    "    # Setter methods for setting single parameters\n",
    "    def set_number_of_hidden_layers(self, val):\n",
    "        self.config[\"number_of_hidden_layers\"] = val\n",
    "        \n",
    "    def set_number_of_units_per_layer(self, val):\n",
    "        self.config[\"number_of_units_per_layer\"] = val\n",
    "        \n",
    "    def set_activation_function(self, val):\n",
    "        self.config[\"activation_function\"] = val\n",
    "        \n",
    "    def set_epochs(self, val):\n",
    "        self.config[\"epochs\"] = val\n",
    "        \n",
    "    def set_batch_size(self, val):\n",
    "        self.config[\"batch_size\"] = val\n",
    "        \n",
    "    def set_loss_function(self, val):\n",
    "        self.config[\"loss_function\"] = val\n",
    "        \n",
    "    def set_optimizer(self, val):\n",
    "        self.config[\"optimizer\"] = val\n",
    "        \n",
    "    # This method is helpful if you just want to reset the changes you made to the parameters\n",
    "    def reset_config(self):\n",
    "        config = {\n",
    "            'input_layer_dim': 48,\n",
    "            'output_layer_dim': 11,\n",
    "            'number_of_hidden_layers': 1,\n",
    "            'number_of_units_per_layer': 10,\n",
    "            'epochs': 100,\n",
    "            'batch_size': 64,\n",
    "            'activation_function': 'relu',\n",
    "            'loss_function': 'categorical_crossentropy',\n",
    "            'optimizer': 'sgd'}\n",
    "        \n",
    "        config[self.test_param_name] = self.test_param_val\n",
    "        self.config = config\n",
    "        \n",
    "    # This method plots the result without needing any input from the user\n",
    "    def plot_result(self, dim=2):\n",
    "        if dim == 2:\n",
    "            self.__plot_2d()\n",
    "\n",
    "    def __plot_2d(self):\n",
    "\n",
    "        # TODO: improve plot\n",
    "\n",
    "        test_param_val = [element['test_param_val'] for element in self.result]\n",
    "        accuracy_result = [element['result']['accuracy'] for element in self.result]\n",
    "\n",
    "        plt.scatter(test_param_val, accuracy_result)\n",
    "        plt.plot(test_param_val, accuracy_result, linestyle='--')\n",
    "        plt.title(\"Accuracy per \" + \"'\" + self.test_param_name + \"'\")\n",
    "        plt.ylabel(\"Accuracy\")\n",
    "        plt.xlabel(self.test_param_name)\n",
    "        plt.show()\n",
    "        # TODO : plot as table\n",
    "        print('\"test_param_val\":\\t', test_param_val)\n",
    "        print('\"accuracy_result\":\\t', accuracy_result)"
   ]
  },
  {
   "cell_type": "markdown",
   "metadata": {},
   "source": [
    "## Test NN with parameters"
   ]
  },
  {
   "cell_type": "code",
   "execution_count": 13,
   "metadata": {
    "scrolled": true
   },
   "outputs": [],
   "source": [
    "nnpt = NeuralNetworkParameterTester(test_param_name=\"number_of_units_per_layer\", test_param_val=[2, 3, 4])"
   ]
  },
  {
   "cell_type": "code",
   "execution_count": 14,
   "metadata": {
    "scrolled": false
   },
   "outputs": [
    {
     "data": {
      "text/plain": [
       "{'input_layer_dim': 48,\n",
       " 'output_layer_dim': 11,\n",
       " 'number_of_hidden_layers': 1,\n",
       " 'number_of_units_per_layer': [2, 3, 4],\n",
       " 'epochs': 100,\n",
       " 'batch_size': 64,\n",
       " 'activation_function': 'relu',\n",
       " 'loss_function': 'categorical_crossentropy',\n",
       " 'optimizer': 'sgd'}"
      ]
     },
     "execution_count": 14,
     "metadata": {},
     "output_type": "execute_result"
    }
   ],
   "source": [
    "nnpt.config"
   ]
  },
  {
   "cell_type": "code",
   "execution_count": 15,
   "metadata": {},
   "outputs": [],
   "source": [
    "nnpt.set_number_of_hidden_layers(2)"
   ]
  },
  {
   "cell_type": "code",
   "execution_count": 16,
   "metadata": {},
   "outputs": [
    {
     "data": {
      "text/plain": [
       "{'input_layer_dim': 48,\n",
       " 'output_layer_dim': 11,\n",
       " 'number_of_hidden_layers': 2,\n",
       " 'number_of_units_per_layer': [2, 3, 4],\n",
       " 'epochs': 100,\n",
       " 'batch_size': 64,\n",
       " 'activation_function': 'relu',\n",
       " 'loss_function': 'categorical_crossentropy',\n",
       " 'optimizer': 'sgd'}"
      ]
     },
     "execution_count": 16,
     "metadata": {},
     "output_type": "execute_result"
    }
   ],
   "source": [
    "nnpt.config"
   ]
  },
  {
   "cell_type": "code",
   "execution_count": 17,
   "metadata": {},
   "outputs": [
    {
     "name": "stdout",
     "output_type": "stream",
     "text": [
      "WARNING:tensorflow:From C:\\Users\\Fab\\Anaconda3\\lib\\site-packages\\keras\\backend\\tensorflow_backend.py:74: The name tf.get_default_graph is deprecated. Please use tf.compat.v1.get_default_graph instead.\n",
      "\n",
      "WARNING:tensorflow:From C:\\Users\\Fab\\Anaconda3\\lib\\site-packages\\keras\\backend\\tensorflow_backend.py:517: The name tf.placeholder is deprecated. Please use tf.compat.v1.placeholder instead.\n",
      "\n",
      "WARNING:tensorflow:From C:\\Users\\Fab\\Anaconda3\\lib\\site-packages\\keras\\backend\\tensorflow_backend.py:4138: The name tf.random_uniform is deprecated. Please use tf.random.uniform instead.\n",
      "\n",
      "WARNING:tensorflow:From C:\\Users\\Fab\\Anaconda3\\lib\\site-packages\\keras\\optimizers.py:790: The name tf.train.Optimizer is deprecated. Please use tf.compat.v1.train.Optimizer instead.\n",
      "\n",
      "WARNING:tensorflow:From C:\\Users\\Fab\\Anaconda3\\lib\\site-packages\\keras\\backend\\tensorflow_backend.py:3295: The name tf.log is deprecated. Please use tf.math.log instead.\n",
      "\n",
      "WARNING:tensorflow:From C:\\Users\\Fab\\Anaconda3\\lib\\site-packages\\tensorflow_core\\python\\ops\\math_grad.py:1424: where (from tensorflow.python.ops.array_ops) is deprecated and will be removed in a future version.\n",
      "Instructions for updating:\n",
      "Use tf.where in 2.0, which has the same broadcast rule as np.where\n",
      "WARNING:tensorflow:From C:\\Users\\Fab\\Anaconda3\\lib\\site-packages\\keras\\backend\\tensorflow_backend.py:986: The name tf.assign_add is deprecated. Please use tf.compat.v1.assign_add instead.\n",
      "\n",
      "WARNING:tensorflow:From C:\\Users\\Fab\\Anaconda3\\lib\\site-packages\\keras\\backend\\tensorflow_backend.py:973: The name tf.assign is deprecated. Please use tf.compat.v1.assign instead.\n",
      "\n",
      "WARNING:tensorflow:From C:\\Users\\Fab\\Anaconda3\\lib\\site-packages\\keras\\backend\\tensorflow_backend.py:2741: The name tf.Session is deprecated. Please use tf.compat.v1.Session instead.\n",
      "\n",
      "Epoch 1/100\n",
      "WARNING:tensorflow:From C:\\Users\\Fab\\Anaconda3\\lib\\site-packages\\keras\\backend\\tensorflow_backend.py:174: The name tf.get_default_session is deprecated. Please use tf.compat.v1.get_default_session instead.\n",
      "\n",
      "WARNING:tensorflow:From C:\\Users\\Fab\\Anaconda3\\lib\\site-packages\\keras\\backend\\tensorflow_backend.py:181: The name tf.ConfigProto is deprecated. Please use tf.compat.v1.ConfigProto instead.\n",
      "\n",
      "WARNING:tensorflow:From C:\\Users\\Fab\\Anaconda3\\lib\\site-packages\\keras\\backend\\tensorflow_backend.py:190: The name tf.global_variables is deprecated. Please use tf.compat.v1.global_variables instead.\n",
      "\n",
      "WARNING:tensorflow:From C:\\Users\\Fab\\Anaconda3\\lib\\site-packages\\keras\\backend\\tensorflow_backend.py:199: The name tf.is_variable_initialized is deprecated. Please use tf.compat.v1.is_variable_initialized instead.\n",
      "\n",
      "WARNING:tensorflow:From C:\\Users\\Fab\\Anaconda3\\lib\\site-packages\\keras\\backend\\tensorflow_backend.py:206: The name tf.variables_initializer is deprecated. Please use tf.compat.v1.variables_initializer instead.\n",
      "\n",
      "26329/26329 [==============================] - 1s 39us/step - loss: 2.4042 - acc: 0.0801\n",
      "Epoch 2/100\n",
      "26329/26329 [==============================] - 0s 15us/step - loss: 2.3995 - acc: 0.0922\n",
      "Epoch 3/100\n",
      "26329/26329 [==============================] - 0s 15us/step - loss: 2.3987 - acc: 0.0899\n",
      "Epoch 4/100\n",
      "26329/26329 [==============================] - 0s 15us/step - loss: 2.3984 - acc: 0.0932\n",
      "Epoch 5/100\n",
      "26329/26329 [==============================] - 0s 17us/step - loss: 2.3982 - acc: 0.0936\n",
      "Epoch 6/100\n",
      "26329/26329 [==============================] - 0s 15us/step - loss: 2.3981 - acc: 0.0943\n",
      "Epoch 7/100\n",
      "24000/26329 [==========================>...] - ETA: 0s - loss: 2.3981 - acc: 0.0943"
     ]
    },
    {
     "ename": "KeyboardInterrupt",
     "evalue": "",
     "output_type": "error",
     "traceback": [
      "\u001b[1;31m---------------------------------------------------------------------------\u001b[0m",
      "\u001b[1;31mKeyboardInterrupt\u001b[0m                         Traceback (most recent call last)",
      "\u001b[1;32m<ipython-input-17-06aa061e877e>\u001b[0m in \u001b[0;36m<module>\u001b[1;34m\u001b[0m\n\u001b[1;32m----> 1\u001b[1;33m \u001b[0mnnpt\u001b[0m\u001b[1;33m.\u001b[0m\u001b[0mrun\u001b[0m\u001b[1;33m(\u001b[0m\u001b[1;33m)\u001b[0m\u001b[1;33m\u001b[0m\u001b[1;33m\u001b[0m\u001b[0m\n\u001b[0m",
      "\u001b[1;32m<ipython-input-12-89b905ee4f17>\u001b[0m in \u001b[0;36mrun\u001b[1;34m(self)\u001b[0m\n\u001b[0;32m     94\u001b[0m \u001b[1;33m\u001b[0m\u001b[0m\n\u001b[0;32m     95\u001b[0m             \u001b[0mmodel\u001b[0m \u001b[1;33m=\u001b[0m \u001b[0mself\u001b[0m\u001b[1;33m.\u001b[0m\u001b[0m__build\u001b[0m\u001b[1;33m(\u001b[0m\u001b[0mtest_config\u001b[0m\u001b[1;33m)\u001b[0m\u001b[1;33m\u001b[0m\u001b[1;33m\u001b[0m\u001b[0m\n\u001b[1;32m---> 96\u001b[1;33m             \u001b[0mtrained_model\u001b[0m\u001b[1;33m,\u001b[0m \u001b[0mhistory\u001b[0m \u001b[1;33m=\u001b[0m \u001b[0mself\u001b[0m\u001b[1;33m.\u001b[0m\u001b[0m__train\u001b[0m\u001b[1;33m(\u001b[0m\u001b[0mtest_config\u001b[0m\u001b[1;33m,\u001b[0m \u001b[0mmodel\u001b[0m\u001b[1;33m)\u001b[0m\u001b[1;33m\u001b[0m\u001b[1;33m\u001b[0m\u001b[0m\n\u001b[0m\u001b[0;32m     97\u001b[0m             \u001b[0maccuracy\u001b[0m \u001b[1;33m=\u001b[0m \u001b[0mself\u001b[0m\u001b[1;33m.\u001b[0m\u001b[0m__test\u001b[0m\u001b[1;33m(\u001b[0m\u001b[0mtrained_model\u001b[0m\u001b[1;33m)\u001b[0m\u001b[1;33m\u001b[0m\u001b[1;33m\u001b[0m\u001b[0m\n\u001b[0;32m     98\u001b[0m \u001b[1;33m\u001b[0m\u001b[0m\n",
      "\u001b[1;32m<ipython-input-12-89b905ee4f17>\u001b[0m in \u001b[0;36m__train\u001b[1;34m(self, test_config, model)\u001b[0m\n\u001b[0;32m    129\u001b[0m                             \u001b[0my_train\u001b[0m\u001b[1;33m,\u001b[0m\u001b[1;33m\u001b[0m\u001b[1;33m\u001b[0m\u001b[0m\n\u001b[0;32m    130\u001b[0m                             \u001b[0mepochs\u001b[0m\u001b[1;33m=\u001b[0m\u001b[0mtest_config\u001b[0m\u001b[1;33m[\u001b[0m\u001b[1;34m'epochs'\u001b[0m\u001b[1;33m]\u001b[0m\u001b[1;33m,\u001b[0m\u001b[1;33m\u001b[0m\u001b[1;33m\u001b[0m\u001b[0m\n\u001b[1;32m--> 131\u001b[1;33m                             batch_size=test_config['batch_size'])             \n\u001b[0m\u001b[0;32m    132\u001b[0m         \u001b[1;32mreturn\u001b[0m \u001b[0mmodel\u001b[0m\u001b[1;33m,\u001b[0m \u001b[0mhistory\u001b[0m\u001b[1;33m\u001b[0m\u001b[1;33m\u001b[0m\u001b[0m\n\u001b[0;32m    133\u001b[0m \u001b[1;33m\u001b[0m\u001b[0m\n",
      "\u001b[1;32m~\\Anaconda3\\lib\\site-packages\\keras\\engine\\training.py\u001b[0m in \u001b[0;36mfit\u001b[1;34m(self, x, y, batch_size, epochs, verbose, callbacks, validation_split, validation_data, shuffle, class_weight, sample_weight, initial_epoch, steps_per_epoch, validation_steps, **kwargs)\u001b[0m\n\u001b[0;32m   1037\u001b[0m                                         \u001b[0minitial_epoch\u001b[0m\u001b[1;33m=\u001b[0m\u001b[0minitial_epoch\u001b[0m\u001b[1;33m,\u001b[0m\u001b[1;33m\u001b[0m\u001b[1;33m\u001b[0m\u001b[0m\n\u001b[0;32m   1038\u001b[0m                                         \u001b[0msteps_per_epoch\u001b[0m\u001b[1;33m=\u001b[0m\u001b[0msteps_per_epoch\u001b[0m\u001b[1;33m,\u001b[0m\u001b[1;33m\u001b[0m\u001b[1;33m\u001b[0m\u001b[0m\n\u001b[1;32m-> 1039\u001b[1;33m                                         validation_steps=validation_steps)\n\u001b[0m\u001b[0;32m   1040\u001b[0m \u001b[1;33m\u001b[0m\u001b[0m\n\u001b[0;32m   1041\u001b[0m     def evaluate(self, x=None, y=None,\n",
      "\u001b[1;32m~\\Anaconda3\\lib\\site-packages\\keras\\engine\\training_arrays.py\u001b[0m in \u001b[0;36mfit_loop\u001b[1;34m(model, f, ins, out_labels, batch_size, epochs, verbose, callbacks, val_f, val_ins, shuffle, callback_metrics, initial_epoch, steps_per_epoch, validation_steps)\u001b[0m\n\u001b[0;32m    185\u001b[0m                             ins[:-1], batch_ids) + [ins[-1]]\n\u001b[0;32m    186\u001b[0m                     \u001b[1;32melse\u001b[0m\u001b[1;33m:\u001b[0m\u001b[1;33m\u001b[0m\u001b[1;33m\u001b[0m\u001b[0m\n\u001b[1;32m--> 187\u001b[1;33m                         \u001b[0mins_batch\u001b[0m \u001b[1;33m=\u001b[0m \u001b[0mslice_arrays\u001b[0m\u001b[1;33m(\u001b[0m\u001b[0mins\u001b[0m\u001b[1;33m,\u001b[0m \u001b[0mbatch_ids\u001b[0m\u001b[1;33m)\u001b[0m\u001b[1;33m\u001b[0m\u001b[1;33m\u001b[0m\u001b[0m\n\u001b[0m\u001b[0;32m    188\u001b[0m                 \u001b[1;32mexcept\u001b[0m \u001b[0mTypeError\u001b[0m\u001b[1;33m:\u001b[0m\u001b[1;33m\u001b[0m\u001b[1;33m\u001b[0m\u001b[0m\n\u001b[0;32m    189\u001b[0m                     raise TypeError('TypeError while preparing batch. '\n",
      "\u001b[1;32m~\\Anaconda3\\lib\\site-packages\\keras\\utils\\generic_utils.py\u001b[0m in \u001b[0;36mslice_arrays\u001b[1;34m(arrays, start, stop)\u001b[0m\n\u001b[0;32m    524\u001b[0m             \u001b[1;32mif\u001b[0m \u001b[0mhasattr\u001b[0m\u001b[1;33m(\u001b[0m\u001b[0mstart\u001b[0m\u001b[1;33m,\u001b[0m \u001b[1;34m'shape'\u001b[0m\u001b[1;33m)\u001b[0m\u001b[1;33m:\u001b[0m\u001b[1;33m\u001b[0m\u001b[1;33m\u001b[0m\u001b[0m\n\u001b[0;32m    525\u001b[0m                 \u001b[0mstart\u001b[0m \u001b[1;33m=\u001b[0m \u001b[0mstart\u001b[0m\u001b[1;33m.\u001b[0m\u001b[0mtolist\u001b[0m\u001b[1;33m(\u001b[0m\u001b[1;33m)\u001b[0m\u001b[1;33m\u001b[0m\u001b[1;33m\u001b[0m\u001b[0m\n\u001b[1;32m--> 526\u001b[1;33m             \u001b[1;32mreturn\u001b[0m \u001b[1;33m[\u001b[0m\u001b[1;32mNone\u001b[0m \u001b[1;32mif\u001b[0m \u001b[0mx\u001b[0m \u001b[1;32mis\u001b[0m \u001b[1;32mNone\u001b[0m \u001b[1;32melse\u001b[0m \u001b[0mx\u001b[0m\u001b[1;33m[\u001b[0m\u001b[0mstart\u001b[0m\u001b[1;33m]\u001b[0m \u001b[1;32mfor\u001b[0m \u001b[0mx\u001b[0m \u001b[1;32min\u001b[0m \u001b[0marrays\u001b[0m\u001b[1;33m]\u001b[0m\u001b[1;33m\u001b[0m\u001b[1;33m\u001b[0m\u001b[0m\n\u001b[0m\u001b[0;32m    527\u001b[0m         \u001b[1;32melse\u001b[0m\u001b[1;33m:\u001b[0m\u001b[1;33m\u001b[0m\u001b[1;33m\u001b[0m\u001b[0m\n\u001b[0;32m    528\u001b[0m             \u001b[1;32mreturn\u001b[0m \u001b[1;33m[\u001b[0m\u001b[1;32mNone\u001b[0m \u001b[1;32mif\u001b[0m \u001b[0mx\u001b[0m \u001b[1;32mis\u001b[0m \u001b[1;32mNone\u001b[0m \u001b[1;32melse\u001b[0m \u001b[0mx\u001b[0m\u001b[1;33m[\u001b[0m\u001b[0mstart\u001b[0m\u001b[1;33m:\u001b[0m\u001b[0mstop\u001b[0m\u001b[1;33m]\u001b[0m \u001b[1;32mfor\u001b[0m \u001b[0mx\u001b[0m \u001b[1;32min\u001b[0m \u001b[0marrays\u001b[0m\u001b[1;33m]\u001b[0m\u001b[1;33m\u001b[0m\u001b[1;33m\u001b[0m\u001b[0m\n",
      "\u001b[1;32m~\\Anaconda3\\lib\\site-packages\\keras\\utils\\generic_utils.py\u001b[0m in \u001b[0;36m<listcomp>\u001b[1;34m(.0)\u001b[0m\n\u001b[0;32m    524\u001b[0m             \u001b[1;32mif\u001b[0m \u001b[0mhasattr\u001b[0m\u001b[1;33m(\u001b[0m\u001b[0mstart\u001b[0m\u001b[1;33m,\u001b[0m \u001b[1;34m'shape'\u001b[0m\u001b[1;33m)\u001b[0m\u001b[1;33m:\u001b[0m\u001b[1;33m\u001b[0m\u001b[1;33m\u001b[0m\u001b[0m\n\u001b[0;32m    525\u001b[0m                 \u001b[0mstart\u001b[0m \u001b[1;33m=\u001b[0m \u001b[0mstart\u001b[0m\u001b[1;33m.\u001b[0m\u001b[0mtolist\u001b[0m\u001b[1;33m(\u001b[0m\u001b[1;33m)\u001b[0m\u001b[1;33m\u001b[0m\u001b[1;33m\u001b[0m\u001b[0m\n\u001b[1;32m--> 526\u001b[1;33m             \u001b[1;32mreturn\u001b[0m \u001b[1;33m[\u001b[0m\u001b[1;32mNone\u001b[0m \u001b[1;32mif\u001b[0m \u001b[0mx\u001b[0m \u001b[1;32mis\u001b[0m \u001b[1;32mNone\u001b[0m \u001b[1;32melse\u001b[0m \u001b[0mx\u001b[0m\u001b[1;33m[\u001b[0m\u001b[0mstart\u001b[0m\u001b[1;33m]\u001b[0m \u001b[1;32mfor\u001b[0m \u001b[0mx\u001b[0m \u001b[1;32min\u001b[0m \u001b[0marrays\u001b[0m\u001b[1;33m]\u001b[0m\u001b[1;33m\u001b[0m\u001b[1;33m\u001b[0m\u001b[0m\n\u001b[0m\u001b[0;32m    527\u001b[0m         \u001b[1;32melse\u001b[0m\u001b[1;33m:\u001b[0m\u001b[1;33m\u001b[0m\u001b[1;33m\u001b[0m\u001b[0m\n\u001b[0;32m    528\u001b[0m             \u001b[1;32mreturn\u001b[0m \u001b[1;33m[\u001b[0m\u001b[1;32mNone\u001b[0m \u001b[1;32mif\u001b[0m \u001b[0mx\u001b[0m \u001b[1;32mis\u001b[0m \u001b[1;32mNone\u001b[0m \u001b[1;32melse\u001b[0m \u001b[0mx\u001b[0m\u001b[1;33m[\u001b[0m\u001b[0mstart\u001b[0m\u001b[1;33m:\u001b[0m\u001b[0mstop\u001b[0m\u001b[1;33m]\u001b[0m \u001b[1;32mfor\u001b[0m \u001b[0mx\u001b[0m \u001b[1;32min\u001b[0m \u001b[0marrays\u001b[0m\u001b[1;33m]\u001b[0m\u001b[1;33m\u001b[0m\u001b[1;33m\u001b[0m\u001b[0m\n",
      "\u001b[1;31mKeyboardInterrupt\u001b[0m: "
     ]
    }
   ],
   "source": [
    "nnpt.run()"
   ]
  },
  {
   "cell_type": "code",
   "execution_count": 42,
   "metadata": {},
   "outputs": [
    {
     "data": {
      "text/plain": [
       "[{'test_param_val': 4,\n",
       "  'params': {'input_layer_dim': 48,\n",
       "   'output_layer_dim': 11,\n",
       "   'number_of_hidden_layers': 2,\n",
       "   'number_of_units_per_layer': 4,\n",
       "   'epochs': 100,\n",
       "   'batch_size': 64,\n",
       "   'activation_function': 'relu',\n",
       "   'loss_function': 'categorical_crossentropy',\n",
       "   'optimizer': 'sgd'},\n",
       "  'result': {'model': <keras.engine.sequential.Sequential at 0x201f3b001c8>,\n",
       "   'accuracy': 0.6797676008202324}},\n",
       " {'test_param_val': 8,\n",
       "  'params': {'input_layer_dim': 48,\n",
       "   'output_layer_dim': 11,\n",
       "   'number_of_hidden_layers': 2,\n",
       "   'number_of_units_per_layer': 8,\n",
       "   'epochs': 100,\n",
       "   'batch_size': 64,\n",
       "   'activation_function': 'relu',\n",
       "   'loss_function': 'categorical_crossentropy',\n",
       "   'optimizer': 'sgd'},\n",
       "  'result': {'model': <keras.engine.sequential.Sequential at 0x201f3b8fc48>,\n",
       "   'accuracy': 0.950786056049214}},\n",
       " {'test_param_val': 16,\n",
       "  'params': {'input_layer_dim': 48,\n",
       "   'output_layer_dim': 11,\n",
       "   'number_of_hidden_layers': 2,\n",
       "   'number_of_units_per_layer': 16,\n",
       "   'epochs': 100,\n",
       "   'batch_size': 64,\n",
       "   'activation_function': 'relu',\n",
       "   'loss_function': 'categorical_crossentropy',\n",
       "   'optimizer': 'sgd'},\n",
       "  'result': {'model': <keras.engine.sequential.Sequential at 0x201f3c06c88>,\n",
       "   'accuracy': 0.9760765550239234}}]"
      ]
     },
     "execution_count": 42,
     "metadata": {},
     "output_type": "execute_result"
    }
   ],
   "source": [
    "nnpt.result"
   ]
  },
  {
   "cell_type": "code",
   "execution_count": 43,
   "metadata": {},
   "outputs": [
    {
     "name": "stdout",
     "output_type": "stream",
     "text": [
      "[4, 8, 16]\n",
      "[0.6797676008202324, 0.950786056049214, 0.9760765550239234]\n"
     ]
    },
    {
     "data": {
      "image/png": "[encoded data removed]",
      "text/plain": [
       "<Figure size 432x288 with 1 Axes>"
      ]
     },
     "metadata": {
      "needs_background": "light"
     },
     "output_type": "display_data"
    }
   ],
   "source": [
    "nnpt.plot_result()"
   ]
  },
  {
   "cell_type": "code",
   "execution_count": null,
   "metadata": {},
   "outputs": [],
   "source": [
    "# TODO: Plot Matrix"
   ]
  }
 ],
 "metadata": {
  "kernelspec": {
   "display_name": "Python 3",
   "language": "python",
   "name": "python3"
  },
  "language_info": {
   "codemirror_mode": {
    "name": "ipython",
    "version": 3
   },
   "file_extension": ".py",
   "mimetype": "text/x-python",
   "name": "python",
   "nbconvert_exporter": "python",
   "pygments_lexer": "ipython3",
   "version": "3.7.4"
  }
 },
 "nbformat": 4,
 "nbformat_minor": 2
}
